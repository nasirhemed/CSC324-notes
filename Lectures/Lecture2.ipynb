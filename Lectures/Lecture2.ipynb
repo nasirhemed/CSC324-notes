{
 "cells": [
  {
   "cell_type": "markdown",
   "metadata": {},
   "source": [
    "# CSC324 Lecture 2"
   ]
  },
  {
   "cell_type": "markdown",
   "metadata": {},
   "source": [
    "## Haskell Language\n",
    "### Constructors\n",
    "Everything in haskell is defined as variables. Even functions are defined as variables."
   ]
  },
  {
   "cell_type": "code",
   "execution_count": 1,
   "metadata": {},
   "outputs": [
    {
     "data": {
      "text/plain": [
       "2"
      ]
     },
     "metadata": {},
     "output_type": "display_data"
    }
   ],
   "source": [
    "a = 2\n",
    "a"
   ]
  },
  {
   "cell_type": "code",
   "execution_count": 2,
   "metadata": {},
   "outputs": [
    {
     "data": {
      "text/plain": [
       "7"
      ]
     },
     "metadata": {},
     "output_type": "display_data"
    }
   ],
   "source": [
    "diffSq x y = (x - y) * (x + y)\n",
    "diffSq 4 3"
   ]
  },
  {
   "cell_type": "markdown",
   "metadata": {},
   "source": [
    "#### Local variables \n",
    "There are multiple ways to define local variables in haskell. We can define a local variable by the `let` keyword. For example `let x = 3`.  \n",
    "We can use the `in` keyword to specify the outcome of the result.  \n",
    "`let y = 5 in y * 4`  \n",
    "If we want to keep a placeholder in variables and define them later, then we can use `where`. \n",
    "```\n",
    "let a = b + c \n",
    "    where\n",
    "        b = 3\n",
    "        c = 4\n",
    "```\n",
    "It's important to note that `let ... in` is an expression whereas `where` is part of a definition"
   ]
  },
  {
   "cell_type": "markdown",
   "metadata": {},
   "source": [
    "### [Pattern matching](http://learnyouahaskell.com/syntax-in-functions)\n",
    "The idea behind pattern matching is similar to if else case.  \n",
    "If your function has cases for your input then you could consider doing the following:  \n",
    "```\n",
    "function case1 = case1_solution\n",
    "function case2 = case2_solution\n",
    "...\n",
    "function general = function recursive_input\n",
    "```"
   ]
  },
  {
   "cell_type": "code",
   "execution_count": 3,
   "metadata": {},
   "outputs": [],
   "source": [
    "slowFactorial 0 = 1\n",
    "slowFactorial n = n * slowFactorial (n - 1)"
   ]
  },
  {
   "cell_type": "code",
   "execution_count": 4,
   "metadata": {},
   "outputs": [
    {
     "data": {
      "text/plain": [
       "1"
      ]
     },
     "metadata": {},
     "output_type": "display_data"
    },
    {
     "data": {
      "text/plain": [
       "1307674368000"
      ]
     },
     "metadata": {},
     "output_type": "display_data"
    }
   ],
   "source": [
    "slowFactorial 0\n",
    "slowFactorial 15"
   ]
  },
  {
   "cell_type": "markdown",
   "metadata": {},
   "source": [
    "It is possible to use if else cases in Haskell but generally it's ugly and is not preferred. It's also not optimized well."
   ]
  },
  {
   "cell_type": "code",
   "execution_count": 5,
   "metadata": {},
   "outputs": [],
   "source": [
    "uglyFactorial n = \n",
    "    if n == 0\n",
    "        then 1\n",
    "        else n * uglyFactorial (n-1)"
   ]
  },
  {
   "cell_type": "code",
   "execution_count": 6,
   "metadata": {},
   "outputs": [
    {
     "data": {
      "text/plain": [
       "1"
      ]
     },
     "metadata": {},
     "output_type": "display_data"
    },
    {
     "data": {
      "text/plain": [
       "1307674368000"
      ]
     },
     "metadata": {},
     "output_type": "display_data"
    }
   ],
   "source": [
    "uglyFactorial 0\n",
    "uglyFactorial 15"
   ]
  },
  {
   "cell_type": "markdown",
   "metadata": {},
   "source": [
    "### General approach to Recursive Functions\n",
    "Never try to unfold recursive calls or else your head might explode. Instead, try coming up with a function by constructing a proof by induction.  \n",
    "\n",
    "For example, in the case of slowFactorial:  \n",
    "#### Base case\n",
    "We know that `slowFactorial 0` is supposed to be 1. So we can let that be a **special case** for our function  \n",
    "`slowFactorial 0 = 1`\n",
    "#### Induction Step\n",
    "Suppose `slowFactorial` works for `n-1`. We want to show that it works for `n`.  \n",
    "By definition, $n! = n * (n-1)!$. We already know what $n!$ is, therefore we can write `slowFactorial n = n * slowFactorial (n-1)`"
   ]
  },
  {
   "cell_type": "markdown",
   "metadata": {},
   "source": [
    "#### Evaluation view\n",
    "\n",
    "This is highly not recommended to use as you will tear up and probably drop the course  \n",
    "\n",
    "```\n",
    "Evaluation view (how a computer or an enslaved student runs code): Plug and chug:\n",
    "\n",
    "  slowFactorial 3\n",
    "→ 3 * slowFactorial (3 - 1)\n",
    "→ 3 * slowFactorial 2\n",
    "→ 3 * (2 * slowFactorial (2 - 1))\n",
    "→ 3 * (2 * slowFactorial 1)\n",
    "→ 3 * (2 * (1 * slowFactorial (1 - 1)))\n",
    "→ 3 * (2 * (1 * slowFactorial 0))\n",
    "→ 3 * (2 * (1 * 1))\n",
    "→ 3 * (2 * 1)\n",
    "→ 3 * 2\n",
    "→ 6\n",
    "```"
   ]
  },
  {
   "cell_type": "markdown",
   "metadata": {},
   "source": [
    "### Enums\n",
    "Enums in Haskell are algebraic data types. They aren't the same as enums defined in `C` in the sense that they are just integers. They are real enumarations"
   ]
  },
  {
   "cell_type": "code",
   "execution_count": 7,
   "metadata": {},
   "outputs": [
    {
     "data": {
      "text/plain": [
       "North"
      ]
     },
     "metadata": {},
     "output_type": "display_data"
    }
   ],
   "source": [
    "data Direction = North | East | South | West\n",
    "    deriving (Eq, Show)\n",
    "-- Show is used for printing (Similar to __repr__ in python)\n",
    "-- Eq is used for equality (Similar to __eq__ in python)\n",
    "a = North\n",
    "a"
   ]
  },
  {
   "cell_type": "code",
   "execution_count": 8,
   "metadata": {},
   "outputs": [
    {
     "data": {
      "text/html": [
       "<style>/* Styles used for the Hoogle display in the pager */\n",
       ".hoogle-doc {\n",
       "display: block;\n",
       "padding-bottom: 1.3em;\n",
       "padding-left: 0.4em;\n",
       "}\n",
       ".hoogle-code {\n",
       "display: block;\n",
       "font-family: monospace;\n",
       "white-space: pre;\n",
       "}\n",
       ".hoogle-text {\n",
       "display: block;\n",
       "}\n",
       ".hoogle-name {\n",
       "color: green;\n",
       "font-weight: bold;\n",
       "}\n",
       ".hoogle-head {\n",
       "font-weight: bold;\n",
       "}\n",
       ".hoogle-sub {\n",
       "display: block;\n",
       "margin-left: 0.4em;\n",
       "}\n",
       ".hoogle-package {\n",
       "font-weight: bold;\n",
       "font-style: italic;\n",
       "}\n",
       ".hoogle-module {\n",
       "font-weight: bold;\n",
       "}\n",
       ".hoogle-class {\n",
       "font-weight: bold;\n",
       "}\n",
       ".get-type {\n",
       "color: green;\n",
       "font-weight: bold;\n",
       "font-family: monospace;\n",
       "display: block;\n",
       "white-space: pre-wrap;\n",
       "}\n",
       ".show-type {\n",
       "color: green;\n",
       "font-weight: bold;\n",
       "font-family: monospace;\n",
       "margin-left: 1em;\n",
       "}\n",
       ".mono {\n",
       "font-family: monospace;\n",
       "display: block;\n",
       "}\n",
       ".err-msg {\n",
       "color: red;\n",
       "font-style: italic;\n",
       "font-family: monospace;\n",
       "white-space: pre;\n",
       "display: block;\n",
       "}\n",
       "#unshowable {\n",
       "color: red;\n",
       "font-weight: bold;\n",
       "}\n",
       ".err-msg.in.collapse {\n",
       "padding-top: 0.7em;\n",
       "}\n",
       ".highlight-code {\n",
       "white-space: pre;\n",
       "font-family: monospace;\n",
       "}\n",
       ".suggestion-warning { \n",
       "font-weight: bold;\n",
       "color: rgb(200, 130, 0);\n",
       "}\n",
       ".suggestion-error { \n",
       "font-weight: bold;\n",
       "color: red;\n",
       "}\n",
       ".suggestion-name {\n",
       "font-weight: bold;\n",
       "}\n",
       "</style><span class='err-msg'>&lt;interactive&gt;:1:6: error:<br/>    • Couldn't match expected type ‘Direction’ with actual type ‘FakeDirection’<br/>    • In the second argument of ‘(==)’, namely ‘b’<br/>      In the expression: a == b<br/>      In an equation for ‘it’: it = a == b</span>"
      ],
      "text/plain": [
       "<interactive>:1:6: error:\n",
       "    • Couldn't match expected type ‘Direction’ with actual type ‘FakeDirection’\n",
       "    • In the second argument of ‘(==)’, namely ‘b’\n",
       "      In the expression: a == b\n",
       "      In an equation for ‘it’: it = a == b"
      ]
     },
     "metadata": {},
     "output_type": "display_data"
    }
   ],
   "source": [
    "-- So for example, if I have another enum\n",
    "data FakeDirection = Noorth | Eaast | Soouth | Weest\n",
    "b = Noorth\n",
    "a == b"
   ]
  },
  {
   "cell_type": "markdown",
   "metadata": {},
   "source": [
    "These data constructors/enums can also be used in pattern matching."
   ]
  },
  {
   "cell_type": "code",
   "execution_count": 9,
   "metadata": {},
   "outputs": [
    {
     "data": {
      "text/plain": [
       "270"
      ]
     },
     "metadata": {},
     "output_type": "display_data"
    }
   ],
   "source": [
    "bearing North = 0\n",
    "bearing East = 90\n",
    "bearing South = 180\n",
    "bearing West = 270\n",
    "\n",
    "bearing West"
   ]
  },
  {
   "cell_type": "code",
   "execution_count": 10,
   "metadata": {},
   "outputs": [
    {
     "data": {
      "text/plain": [
       "East"
      ]
     },
     "metadata": {},
     "output_type": "display_data"
    },
    {
     "data": {
      "text/html": [
       "<style>/* Styles used for the Hoogle display in the pager */\n",
       ".hoogle-doc {\n",
       "display: block;\n",
       "padding-bottom: 1.3em;\n",
       "padding-left: 0.4em;\n",
       "}\n",
       ".hoogle-code {\n",
       "display: block;\n",
       "font-family: monospace;\n",
       "white-space: pre;\n",
       "}\n",
       ".hoogle-text {\n",
       "display: block;\n",
       "}\n",
       ".hoogle-name {\n",
       "color: green;\n",
       "font-weight: bold;\n",
       "}\n",
       ".hoogle-head {\n",
       "font-weight: bold;\n",
       "}\n",
       ".hoogle-sub {\n",
       "display: block;\n",
       "margin-left: 0.4em;\n",
       "}\n",
       ".hoogle-package {\n",
       "font-weight: bold;\n",
       "font-style: italic;\n",
       "}\n",
       ".hoogle-module {\n",
       "font-weight: bold;\n",
       "}\n",
       ".hoogle-class {\n",
       "font-weight: bold;\n",
       "}\n",
       ".get-type {\n",
       "color: green;\n",
       "font-weight: bold;\n",
       "font-family: monospace;\n",
       "display: block;\n",
       "white-space: pre-wrap;\n",
       "}\n",
       ".show-type {\n",
       "color: green;\n",
       "font-weight: bold;\n",
       "font-family: monospace;\n",
       "margin-left: 1em;\n",
       "}\n",
       ".mono {\n",
       "font-family: monospace;\n",
       "display: block;\n",
       "}\n",
       ".err-msg {\n",
       "color: red;\n",
       "font-style: italic;\n",
       "font-family: monospace;\n",
       "white-space: pre;\n",
       "display: block;\n",
       "}\n",
       "#unshowable {\n",
       "color: red;\n",
       "font-weight: bold;\n",
       "}\n",
       ".err-msg.in.collapse {\n",
       "padding-top: 0.7em;\n",
       "}\n",
       ".highlight-code {\n",
       "white-space: pre;\n",
       "font-family: monospace;\n",
       "}\n",
       ".suggestion-warning { \n",
       "font-weight: bold;\n",
       "color: rgb(200, 130, 0);\n",
       "}\n",
       ".suggestion-error { \n",
       "font-weight: bold;\n",
       "color: red;\n",
       "}\n",
       ".suggestion-name {\n",
       "font-weight: bold;\n",
       "}\n",
       "</style><span class='err-msg'>unsupported bearing<br/>CallStack (from HasCallStack):<br/>  error, called at &lt;interactive&gt;:5:15 in interactive:IHaskell212</span>"
      ],
      "text/plain": [
       "unsupported bearing\n",
       "CallStack (from HasCallStack):\n",
       "  error, called at <interactive>:5:15 in interactive:Ghci212"
      ]
     },
     "metadata": {},
     "output_type": "display_data"
    }
   ],
   "source": [
    "direction 0 = North\n",
    "direction 90 = East\n",
    "direction 180 = South\n",
    "direction 270 = West\n",
    "direction _ = error \"unsupported bearing\"\n",
    "\n",
    "direction 90\n",
    "direction 220"
   ]
  },
  {
   "cell_type": "markdown",
   "metadata": {},
   "source": [
    "You can also have pattern matching in data constructors as well "
   ]
  },
  {
   "cell_type": "code",
   "execution_count": 11,
   "metadata": {},
   "outputs": [],
   "source": [
    "data Tetrastratan\n",
    "    = Monarch\n",
    "    | Lord String String Integer\n",
    "    | Knight String\n",
    "    | Peasant String\n",
    "    deriving (Eq, Show)"
   ]
  },
  {
   "cell_type": "code",
   "execution_count": 12,
   "metadata": {},
   "outputs": [
    {
     "data": {
      "text/plain": [
       "\"The 9th Duke of Sussex\""
      ]
     },
     "metadata": {},
     "output_type": "display_data"
    }
   ],
   "source": [
    "ninthDukeOfSussex = Lord \"Duke\" \"Sussex\" 9\n",
    "\n",
    "-- How to address a Tetrastratan:\n",
    "addressTetra Monarch = \"H.M. The Monarch\"\n",
    "addressTetra (Lord d t i) = \"The \" ++ show i ++ \"th \" ++ d ++ \" of \" ++ t\n",
    "addressTetra (Knight n) = \"Sir \" ++ n\n",
    "addressTetra (Peasant n) = n\n",
    "\n",
    "addressTetra ninthDukeOfSussex"
   ]
  },
  {
   "cell_type": "markdown",
   "metadata": {},
   "source": [
    "### Recursive Data Structures\n",
    "We can also define recursive data structures using enums. Consider a linked list for example. It has a head and the remaining is just a linked list"
   ]
  },
  {
   "cell_type": "code",
   "execution_count": 13,
   "metadata": {},
   "outputs": [],
   "source": [
    "data MyIntegerList = INil | ICons Integer MyIntegerList\n",
    "    deriving Show -- INil if the list is empty\n",
    "                  -- ICons defines the LinkedList\n",
    "                  -- where the first integer is head\n",
    "                  -- and the rest (recursive) is a linkedlist\n",
    "exampleMyIntegerList = ICons 4 (ICons (-10) INil)"
   ]
  },
  {
   "cell_type": "code",
   "execution_count": 14,
   "metadata": {},
   "outputs": [
    {
     "data": {
      "text/plain": [
       "-6"
      ]
     },
     "metadata": {},
     "output_type": "display_data"
    }
   ],
   "source": [
    "myISum :: MyIntegerList -> Integer\n",
    "myISum INil = 0\n",
    "myISum (ICons x xs) = x + myISum xs\n",
    "\n",
    "myISum exampleMyIntegerList -- (4 - 10)"
   ]
  },
  {
   "cell_type": "markdown",
   "metadata": {},
   "source": [
    "Here is a binary search tree of integers. It will have the BST property"
   ]
  },
  {
   "cell_type": "code",
   "execution_count": 15,
   "metadata": {},
   "outputs": [],
   "source": [
    "data IntegerBST = IEmpty | INode IntegerBST Integer IntegerBST\n",
    "    deriving Show\n",
    "exampleIntegerBST = INode (INode IEmpty 3 IEmpty) 7 (INode IEmpty 10 IEmpty)"
   ]
  },
  {
   "cell_type": "markdown",
   "metadata": {},
   "source": [
    "We will now write a function to insert an element to the tree. The main issue that we are not allowed to manipulate data structures in Haskell. In other words, data in Haskell is **immutable**.   Thus when we call insert, we have to actually return a new tree.  "
   ]
  },
  {
   "cell_type": "markdown",
   "metadata": {},
   "source": [
    "Like previously, the best way to come up with recursive functions is to construct an induction proof:  \n",
    "#### Base Case\n",
    "When you insert an element to an empty tree, you just return a leaf with a single element. So that's not difficult.\n",
    "`ibstInsert k IEmpty = INode IEmpty k IEmpty`\n",
    "\n",
    "#### Induction Step\n",
    "Suppose the input tree is of the form `Inode left (left subtree) k (key) right (right subtree)`  \n",
    "We will use strong induction and assume that inserting in smaller subtrees results works well.  \n",
    "Let us consider subcases  \n",
    "##### Subcase 1: k < key\n",
    "In this case, we have to insert the key into the left subtree. So we call ibstInsert k left and by IH we assume that works. Thus we return a tree with the new element inserted into the left subtree (`INode (ibstInsert k left) key right`)\n",
    "##### Subcase 2: k > key\n",
    "In this case, we have to insert the key into the right subtree. This is similar to subcase1 (`INode left key (ibstInsert k right)`)\n",
    "##### Subcase 3: k = key\n",
    "In this case, we will assume that we just return the same tree."
   ]
  },
  {
   "cell_type": "code",
   "execution_count": 16,
   "metadata": {},
   "outputs": [
    {
     "data": {
      "text/plain": [
       "INode (INode (INode IEmpty 1 IEmpty) 3 IEmpty) 7 (INode IEmpty 10 IEmpty)"
      ]
     },
     "metadata": {},
     "output_type": "display_data"
    }
   ],
   "source": [
    "ibstInsert :: Integer -> IntegerBST -> IntegerBST\n",
    "ibstInsert k IEmpty =\n",
    "    INode IEmpty k IEmpty\n",
    "\n",
    "ibstInsert k inp@(INode left key right) -- \"as-pattern\", \"inp as (Node left key right)\"\n",
    "    | k < key = INode (ibstInsert k left) key right\n",
    "    | k > key = INode left key (ibstInsert k right)\n",
    "    | otherwise = inp\n",
    "\n",
    "ibstInsert 1 exampleIntegerBST"
   ]
  },
  {
   "cell_type": "markdown",
   "metadata": {},
   "source": [
    "Note above that `inp@(INode left key right)` serves as a replacement for anywhere where inp is added in the function (Similar to function macros in `C`). So in the case of `otherwise`, `inp` will be replaced by `INode left key right`"
   ]
  }
 ],
 "metadata": {
  "kernelspec": {
   "display_name": "Haskell",
   "language": "haskell",
   "name": "haskell"
  },
  "language_info": {
   "codemirror_mode": "ihaskell",
   "file_extension": ".hs",
   "name": "haskell",
   "pygments_lexer": "Haskell",
   "version": "8.6.3"
  }
 },
 "nbformat": 4,
 "nbformat_minor": 2
}
