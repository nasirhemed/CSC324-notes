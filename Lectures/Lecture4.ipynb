{
 "cells": [
  {
   "cell_type": "markdown",
   "metadata": {},
   "source": [
    "# CSC324 Lecture 4"
   ]
  },
  {
   "cell_type": "markdown",
   "metadata": {},
   "source": [
    "Recall how lazy evaluation works.  \n",
    "We will use *Newton's method* to solve the cube root of a number.  \n",
    "Consider the function: $$f(x) = x^3 - b$$ \n",
    "We try to approximate for x in $f(x) = 0$.  \n",
    "$f^\\prime(x) = 3x^2$  \n",
    "So we can approximate $x1 = x - \\frac{f(x)}{f^\\prime(x)} = \\frac{2x + \\frac{b}{x^2}}{3}$  \n",
    "The function below computes $x1$ from $x$ and it will return the cube root of b"
   ]
  },
  {
   "cell_type": "code",
   "execution_count": 1,
   "metadata": {},
   "outputs": [],
   "source": [
    "cubeRoot b = within 0.001 (iterate next b)\n",
    "  where\n",
    "    next x = (2*x + b/x^2) / 3\n",
    "    within eps (x : (x1 : rest))\n",
    "        -- Some parethenses optional.\n",
    "        -- Maybe show off @-pattern here.(f z\n",
    "        | abs (x - x1) <= eps = x1\n",
    "        | otherwise = within eps (x1 : rest)"
   ]
  },
  {
   "cell_type": "code",
   "execution_count": 2,
   "metadata": {},
   "outputs": [
    {
     "data": {
      "text/plain": [
       "2.000000001071189"
      ]
     },
     "metadata": {},
     "output_type": "display_data"
    }
   ],
   "source": [
    "cubeRoot 8"
   ]
  },
  {
   "cell_type": "code",
   "execution_count": 3,
   "metadata": {},
   "outputs": [
    {
     "data": {
      "text/plain": [
       "1.2599210498953948"
      ]
     },
     "metadata": {},
     "output_type": "display_data"
    }
   ],
   "source": [
    "cubeRoot 2"
   ]
  },
  {
   "cell_type": "code",
   "execution_count": 4,
   "metadata": {},
   "outputs": [
    {
     "data": {
      "text/plain": [
       "1.2599210498948732"
      ]
     },
     "metadata": {},
     "output_type": "display_data"
    }
   ],
   "source": [
    "2 ** (1/3)"
   ]
  },
  {
   "cell_type": "markdown",
   "metadata": {},
   "source": [
    "As you can see, they are fairly close to each other.  \n",
    "But more importantly, notice that even though the list is infinite, this function terminates!"
   ]
  },
  {
   "cell_type": "markdown",
   "metadata": {},
   "source": [
    "`within 0.001` is considered to be the error margin.  \n",
    "`within eps (x : (x1 : rest))`: We don't need to consider the case for an empty list as we know that the list is infinite"
   ]
  },
  {
   "cell_type": "markdown",
   "metadata": {},
   "source": [
    "Python also has [lazy lists](https://stackoverflow.com/questions/2399194/python-lazy-list)."
   ]
  },
  {
   "cell_type": "markdown",
   "metadata": {},
   "source": [
    "Notice `within 0.001 (iterate next b)`. This is similar to composition of two functions in math.  \n",
    "Haskell has compositions and it can be written as `within 0.001 . iterate next`.  \n",
    "Generally, `(f . g) x = f (g x)`  "
   ]
  },
  {
   "cell_type": "markdown",
   "metadata": {},
   "source": [
    "## Linked Lists\n",
    "Single Linked list is garbage and for kids. It consumes up a lot of space and is very slow (in terms of accessing and inserting). Arrays are much better as we know."
   ]
  },
  {
   "cell_type": "markdown",
   "metadata": {},
   "source": [
    "Consider the linked list we defined earlier:  \n",
    "`data MyList a = Nil | Cons a (MyList a)`\n",
    "Every instance of MyList stores either Nil (x bits) or sizeof(Integer) + sizeof (MyList) so that is a lot."
   ]
  },
  {
   "cell_type": "markdown",
   "metadata": {},
   "source": [
    "However, in Haskell linked lists are used for several reasons. Because Haskell is lazy, linked lists are great for **control** structure. If things are carefully done, storing linked lists could only take up $\\mathcal{O}(1)$ space!  \n",
    "If things are done properly, then you can fit the entire linked list in a single register!  \n",
    "The idea is that since Haskell is lazy, it only looks at \"some\" of the list and ignores the entire other list. And then once it's done, it repeats... and so on..."
   ]
  },
  {
   "cell_type": "markdown",
   "metadata": {},
   "source": [
    "This is why you can have infinite lists in Haskell.  \n",
    "`func [1 ... ] = look at 1 and ingore everything else... look at 2 and ignore everything else... and so on ... `"
   ]
  },
  {
   "cell_type": "markdown",
   "metadata": {},
   "source": [
    "### Different type of list functions\n",
    "##### Sources\n",
    "Generating new lists. Examples include `repeat, cycle, replicate, iterate, unfoldr,  the [x..], [x..y] notation`\n",
    "##### Transducers\n",
    "Functions that take in lists and return new lists. Examples include `map, filter, scanl, scanr, (foldr too, sometimes) take, drop, splitAt, takeWhile, dropWhile, span, break, partition, zip, zipWith, unzip`\n",
    "##### Sinks\n",
    "Functions that are functions... Idk. Examples: `foldr, foldl, foldl', sum, product, maximum, minimum`"
   ]
  },
  {
   "cell_type": "markdown",
   "metadata": {},
   "source": [
    "### Problems with Lazy Evaluation\n",
    "However, lazy evaluations isn't utopia unfortunately :'(\n",
    "\n",
    "Recall the function `mySumV2`"
   ]
  },
  {
   "cell_type": "code",
   "execution_count": 5,
   "metadata": {},
   "outputs": [
    {
     "data": {
      "text/html": [
       "<style>/* Styles used for the Hoogle display in the pager */\n",
       ".hoogle-doc {\n",
       "display: block;\n",
       "padding-bottom: 1.3em;\n",
       "padding-left: 0.4em;\n",
       "}\n",
       ".hoogle-code {\n",
       "display: block;\n",
       "font-family: monospace;\n",
       "white-space: pre;\n",
       "}\n",
       ".hoogle-text {\n",
       "display: block;\n",
       "}\n",
       ".hoogle-name {\n",
       "color: green;\n",
       "font-weight: bold;\n",
       "}\n",
       ".hoogle-head {\n",
       "font-weight: bold;\n",
       "}\n",
       ".hoogle-sub {\n",
       "display: block;\n",
       "margin-left: 0.4em;\n",
       "}\n",
       ".hoogle-package {\n",
       "font-weight: bold;\n",
       "font-style: italic;\n",
       "}\n",
       ".hoogle-module {\n",
       "font-weight: bold;\n",
       "}\n",
       ".hoogle-class {\n",
       "font-weight: bold;\n",
       "}\n",
       ".get-type {\n",
       "color: green;\n",
       "font-weight: bold;\n",
       "font-family: monospace;\n",
       "display: block;\n",
       "white-space: pre-wrap;\n",
       "}\n",
       ".show-type {\n",
       "color: green;\n",
       "font-weight: bold;\n",
       "font-family: monospace;\n",
       "margin-left: 1em;\n",
       "}\n",
       ".mono {\n",
       "font-family: monospace;\n",
       "display: block;\n",
       "}\n",
       ".err-msg {\n",
       "color: red;\n",
       "font-style: italic;\n",
       "font-family: monospace;\n",
       "white-space: pre;\n",
       "display: block;\n",
       "}\n",
       "#unshowable {\n",
       "color: red;\n",
       "font-weight: bold;\n",
       "}\n",
       ".err-msg.in.collapse {\n",
       "padding-top: 0.7em;\n",
       "}\n",
       ".highlight-code {\n",
       "white-space: pre;\n",
       "font-family: monospace;\n",
       "}\n",
       ".suggestion-warning { \n",
       "font-weight: bold;\n",
       "color: rgb(200, 130, 0);\n",
       "}\n",
       ".suggestion-error { \n",
       "font-weight: bold;\n",
       "color: red;\n",
       "}\n",
       ".suggestion-name {\n",
       "font-weight: bold;\n",
       "}\n",
       "</style><div class=\"suggestion-name\" style=\"clear:both;\">Eta reduce</div><div class=\"suggestion-row\" style=\"float: left;\"><div class=\"suggestion-warning\">Found:</div><div class=\"highlight-code\" id=\"haskell\">mySumV2 xs = g 0 xs</div></div><div class=\"suggestion-row\" style=\"float: left;\"><div class=\"suggestion-warning\">Why Not:</div><div class=\"highlight-code\" id=\"haskell\">mySumV2 = g 0</div></div><div class=\"suggestion-name\" style=\"clear:both;\">Use foldl</div><div class=\"suggestion-row\" style=\"float: left;\"><div class=\"suggestion-warning\">Found:</div><div class=\"highlight-code\" id=\"haskell\">g accum [] = accum\n",
       "g accum (x : xs) = g (accum + x) xs</div></div><div class=\"suggestion-row\" style=\"float: left;\"><div class=\"suggestion-warning\">Why Not:</div><div class=\"highlight-code\" id=\"haskell\">g accum xs = foldl (+) accum xs</div></div>"
      ],
      "text/plain": [
       "Line 1: Eta reduce\n",
       "Found:\n",
       "mySumV2 xs = g 0 xs\n",
       "Why not:\n",
       "mySumV2 = g 0Line 3: Use foldl\n",
       "Found:\n",
       "g accum [] = accum\n",
       "g accum (x : xs) = g (accum + x) xs\n",
       "Why not:\n",
       "g accum xs = foldl (+) accum xs"
      ]
     },
     "metadata": {},
     "output_type": "display_data"
    }
   ],
   "source": [
    "mySumV2 xs = g 0 xs\n",
    "  where\n",
    "    g accum [] = accum\n",
    "    {- Induction step: The list is x:xs\n",
    "       Induction hypothesis: for all a: g a xs = a + sum of xs\n",
    "\n",
    "       How to compute accum + sum of (x:xs)?\n",
    "\n",
    "       accum + sum of (x:xs)\n",
    "     = accum + x + sum of xs\n",
    "     = (accum + x) + sum of xs\n",
    "     = g (accum + x) xs               by IH\n",
    "    -}\n",
    "    g accum (x:xs) = g (accum + x) xs"
   ]
  },
  {
   "cell_type": "markdown",
   "metadata": {},
   "source": [
    "For `mySumV2 [1,2,3]`  \n",
    "This will be:  \n",
    "```\n",
    "mySumV2 (1 : 2 : 3 : [])\n",
    "→ g 0 (1 : 2 : 3 : [])\n",
    "→ g (0 + 1) (2 : 3 : []) # Space is accumaleted\n",
    "→ g ((0 + 1) + 2) (3 : []) \n",
    "→ g (((0 + 1) + 2) + 3) []  # Big junk instead of just storing the sum\n",
    "→ ((0 + 1) + 2) + 3 # Python/C would just be 5 instead of (0 + 1+ ...)\n",
    "→ (1 + 2) + 3\n",
    "→ 3 + 3\n",
    "→ 6\n",
    "```\n",
    "This takes $\\Omega(n)$ space"
   ]
  },
  {
   "cell_type": "markdown",
   "metadata": {},
   "source": [
    "We can even show that `mySumV1` consumes linear space"
   ]
  },
  {
   "cell_type": "markdown",
   "metadata": {},
   "source": [
    "However, this can be avoided, by using the `seq x y` function (sequencing) which takes in two parameters and evaluates to \"weak head normal form\" where \"weak head normal form\" means the following:  \n",
    "Evaluate:  \n",
    "* for built-in number types: until you have the number\n",
    "* for algebraic data types: until you have a data constructor\n",
    "* for functions: until you have a lambda  \n",
    "\n",
    "\n",
    "The \"head\" refers to the data constructors /number"
   ]
  },
  {
   "cell_type": "markdown",
   "metadata": {},
   "source": [
    "For the third case, here is an example:  \n",
    "`seq (if 1 > 0 then (\\x -> x + 1) else (\\x -> x -1)`\n",
    "Rather than evaluate both the lambdas, only after the condition is checked, the lambda is evaluated. So space is being saved"
   ]
  },
  {
   "cell_type": "markdown",
   "metadata": {},
   "source": [
    "So we can rewrite the sum function in the following way"
   ]
  },
  {
   "cell_type": "code",
   "execution_count": 6,
   "metadata": {},
   "outputs": [
    {
     "data": {
      "text/html": [
       "<style>/* Styles used for the Hoogle display in the pager */\n",
       ".hoogle-doc {\n",
       "display: block;\n",
       "padding-bottom: 1.3em;\n",
       "padding-left: 0.4em;\n",
       "}\n",
       ".hoogle-code {\n",
       "display: block;\n",
       "font-family: monospace;\n",
       "white-space: pre;\n",
       "}\n",
       ".hoogle-text {\n",
       "display: block;\n",
       "}\n",
       ".hoogle-name {\n",
       "color: green;\n",
       "font-weight: bold;\n",
       "}\n",
       ".hoogle-head {\n",
       "font-weight: bold;\n",
       "}\n",
       ".hoogle-sub {\n",
       "display: block;\n",
       "margin-left: 0.4em;\n",
       "}\n",
       ".hoogle-package {\n",
       "font-weight: bold;\n",
       "font-style: italic;\n",
       "}\n",
       ".hoogle-module {\n",
       "font-weight: bold;\n",
       "}\n",
       ".hoogle-class {\n",
       "font-weight: bold;\n",
       "}\n",
       ".get-type {\n",
       "color: green;\n",
       "font-weight: bold;\n",
       "font-family: monospace;\n",
       "display: block;\n",
       "white-space: pre-wrap;\n",
       "}\n",
       ".show-type {\n",
       "color: green;\n",
       "font-weight: bold;\n",
       "font-family: monospace;\n",
       "margin-left: 1em;\n",
       "}\n",
       ".mono {\n",
       "font-family: monospace;\n",
       "display: block;\n",
       "}\n",
       ".err-msg {\n",
       "color: red;\n",
       "font-style: italic;\n",
       "font-family: monospace;\n",
       "white-space: pre;\n",
       "display: block;\n",
       "}\n",
       "#unshowable {\n",
       "color: red;\n",
       "font-weight: bold;\n",
       "}\n",
       ".err-msg.in.collapse {\n",
       "padding-top: 0.7em;\n",
       "}\n",
       ".highlight-code {\n",
       "white-space: pre;\n",
       "font-family: monospace;\n",
       "}\n",
       ".suggestion-warning { \n",
       "font-weight: bold;\n",
       "color: rgb(200, 130, 0);\n",
       "}\n",
       ".suggestion-error { \n",
       "font-weight: bold;\n",
       "color: red;\n",
       "}\n",
       ".suggestion-name {\n",
       "font-weight: bold;\n",
       "}\n",
       "</style><div class=\"suggestion-name\" style=\"clear:both;\">Eta reduce</div><div class=\"suggestion-row\" style=\"float: left;\"><div class=\"suggestion-warning\">Found:</div><div class=\"highlight-code\" id=\"haskell\">mySumV3 xs = g 0 xs</div></div><div class=\"suggestion-row\" style=\"float: left;\"><div class=\"suggestion-warning\">Why Not:</div><div class=\"highlight-code\" id=\"haskell\">mySumV3 = g 0</div></div>"
      ],
      "text/plain": [
       "Line 1: Eta reduce\n",
       "Found:\n",
       "mySumV3 xs = g 0 xs\n",
       "Why not:\n",
       "mySumV3 = g 0"
      ]
     },
     "metadata": {},
     "output_type": "display_data"
    }
   ],
   "source": [
    "mySumV3 xs = g 0 xs\n",
    "  where\n",
    "    g accum [] = accum\n",
    "    g accum (x:xs) = seq accum (g (accum + x) xs)"
   ]
  },
  {
   "cell_type": "markdown",
   "metadata": {},
   "source": [
    "We can make this even better by using  \n",
    "```\n",
    "g accum (x:xs) = let a1 = accum + x\n",
    "                    in seq a1 (g a1 xs)\n",
    "```\n",
    "In this case, we will have memory stored only for `a1`  \n",
    "However, this is not good\n",
    "```\n",
    "g accum (x:xs) = seq (accum + x) (g (accum + x) xs)\n",
    "```\n",
    "In this case, the compiler does not notice (g **(accum + x)** xs) as one, so there will be memory for `accum` and `x`"
   ]
  },
  {
   "cell_type": "markdown",
   "metadata": {},
   "source": [
    "`Data.List` also has `foldl'` which basically tries to save up memory.  \n",
    "```\n",
    "foldl' f z [] = z\n",
    "foldl' f z (x:xs) = seq z (foldl' f (f z x) xs)\n",
    "```"
   ]
  },
  {
   "cell_type": "markdown",
   "metadata": {},
   "source": [
    "## Type classes\n",
    "Haskell lets you overload equality checking for the data structure that you have defined.  \n",
    "\n",
    "For example, `== and /=`:  \n",
    "```\n",
    "class Eq a where\n",
    "    (==), (/=) :: a -> a -> Bool\n",
    "```\n",
    "\n"
   ]
  },
  {
   "cell_type": "markdown",
   "metadata": {},
   "source": [
    "For example, let's say we want to support equality for `Bool` type:  \n",
    "\n",
    "```\n",
    "instance Eq Bool where\n",
    "    False == False   = True\n",
    "    True == True     = True\n",
    "    _ == _           = False \n",
    "```"
   ]
  },
  {
   "cell_type": "code",
   "execution_count": 7,
   "metadata": {},
   "outputs": [],
   "source": [
    "data Boolean = Truee | Falsee\n",
    "instance Eq Boolean where\n",
    "    Falsee == Truee   = True\n",
    "    Truee == Falsee     = True \n",
    "    _ == _           = False "
   ]
  },
  {
   "cell_type": "code",
   "execution_count": 8,
   "metadata": {},
   "outputs": [
    {
     "data": {
      "text/plain": [
       "True"
      ]
     },
     "metadata": {},
     "output_type": "display_data"
    }
   ],
   "source": [
    "Truee == Falsee"
   ]
  },
  {
   "cell_type": "code",
   "execution_count": 9,
   "metadata": {},
   "outputs": [
    {
     "data": {
      "text/plain": [
       "False"
      ]
     },
     "metadata": {},
     "output_type": "display_data"
    }
   ],
   "source": [
    "Truee == Truee"
   ]
  },
  {
   "cell_type": "markdown",
   "metadata": {},
   "source": [
    "**Note**: A class is not a type. In other words, a function can never be of type `f :: <Class> -> <Class> -> b`  \n",
    "Similarly, a type is not a \"subclass\" either. The only relationship is membership.  \n"
   ]
  },
  {
   "cell_type": "markdown",
   "metadata": {},
   "source": [
    "However, we can do this:"
   ]
  },
  {
   "cell_type": "code",
   "execution_count": 10,
   "metadata": {},
   "outputs": [],
   "source": [
    "eq3 x y z = x==y && y == z\n",
    "eq3 :: Eq a => a -> a -> a -> Bool"
   ]
  },
  {
   "cell_type": "markdown",
   "metadata": {},
   "source": [
    "What it means is that the function **uses** `<Class>`. Therefore, my arguments better support `<Class>` otherwise the function will not work.  \n",
    "In the above example, `Eq a` means `a` must support `Eq` otherwise the function will not work."
   ]
  },
  {
   "cell_type": "markdown",
   "metadata": {},
   "source": [
    "We defined `data MyList` previously. We will now make it support `Eq`"
   ]
  },
  {
   "cell_type": "code",
   "execution_count": 11,
   "metadata": {},
   "outputs": [],
   "source": [
    "data MyIntegerList = INil | ICons Integer MyIntegerList\n",
    "\n",
    "instance Eq MyIntegerList where\n",
    "    INil == INil              = True\n",
    "    ICons x xs == ICons y ys  = x == y && xs == ys\n",
    "    _ == _                    = False\n",
    "    "
   ]
  },
  {
   "cell_type": "code",
   "execution_count": 12,
   "metadata": {},
   "outputs": [],
   "source": [
    "data MyList a = Nil | Cons a (MyList a)\n",
    "\n",
    "instance Eq a => Eq (MyList a) where\n",
    "    Nil == Nil              = True\n",
    "    Cons x xs == Cons y ys  = x == y && xs == ys\n",
    "                            -- \"x == y\" is when we need to assume Eq a.\n",
    "    _ == _                    = False"
   ]
  },
  {
   "cell_type": "markdown",
   "metadata": {},
   "source": [
    "Notice for `MyList`, we have to make sure that `a` has `Eq` implemented. Therefore, we have to include `Eq a => ...`  \n",
    "In the case of `MyIntegerList`, we know that `Integer` has `Eq` implemented, thus we don't need to include `Eq a => ...`"
   ]
  },
  {
   "cell_type": "markdown",
   "metadata": {},
   "source": [
    "There are also other types of classes like `Ord`, `Bounded`, `Enum` and `Show`.  \n",
    "You can read more about it [here](https://www.haskell.org/onlinereport/haskell2010/haskellch6.html#x13-1270006.3)  \n",
    "![alt text](https://www.haskell.org/onlinereport/haskell2010/haskell2x.png)"
   ]
  },
  {
   "cell_type": "markdown",
   "metadata": {},
   "source": [
    "We can make our life easier by letting our compiler defining the classes for you.  \n",
    "\n",
    "`data MyType = ... deriving (Eq, Ord, Bounded, Enum, Show, Read)`  \n",
    "However, for other classes, it may not be trivial for the compiler.  \n",
    "More about it can be read [here](https://www.haskell.org/onlinereport/haskell2010/haskellch11.html#x18-18200011)"
   ]
  },
  {
   "cell_type": "markdown",
   "metadata": {},
   "source": [
    "## Number Types\n",
    "Haskell has Int, Integer, Rational, Float (single-precision floating point),\n",
    "Double (double-precision floating point), Complex a."
   ]
  },
  {
   "cell_type": "markdown",
   "metadata": {},
   "source": [
    "#### `Num`\n",
    "* **Some Methods** : +, -, *\n",
    "* **Instances** : All number types\n",
    "#### `Integrals`\n",
    "* **Some Methods** : div, mod\n",
    "* **Instances**: Int, Integer\n",
    "#### `Fractional`\n",
    "* **Some Methods** : /\n",
    "* **Instances** : Rational, Float, Double, Complex a  \n",
    "\n",
    "\n",
    "You can learn more about Number Types [here](https://www.haskell.org/onlinereport/haskell2010/haskellch6.html#x13-1350006.4)"
   ]
  },
  {
   "cell_type": "markdown",
   "metadata": {},
   "source": [
    "Consider the function:  \n",
    "```\n",
    "let xs :: [Double]\n",
    "      xs = [1, 2, 3]\n",
    "  in sum xs / length xs\n",
    "```\n",
    "What's wrong with this ?"
   ]
  },
  {
   "cell_type": "code",
   "execution_count": 18,
   "metadata": {},
   "outputs": [
    {
     "data": {
      "text/html": [
       "<style>/* Styles used for the Hoogle display in the pager */\n",
       ".hoogle-doc {\n",
       "display: block;\n",
       "padding-bottom: 1.3em;\n",
       "padding-left: 0.4em;\n",
       "}\n",
       ".hoogle-code {\n",
       "display: block;\n",
       "font-family: monospace;\n",
       "white-space: pre;\n",
       "}\n",
       ".hoogle-text {\n",
       "display: block;\n",
       "}\n",
       ".hoogle-name {\n",
       "color: green;\n",
       "font-weight: bold;\n",
       "}\n",
       ".hoogle-head {\n",
       "font-weight: bold;\n",
       "}\n",
       ".hoogle-sub {\n",
       "display: block;\n",
       "margin-left: 0.4em;\n",
       "}\n",
       ".hoogle-package {\n",
       "font-weight: bold;\n",
       "font-style: italic;\n",
       "}\n",
       ".hoogle-module {\n",
       "font-weight: bold;\n",
       "}\n",
       ".hoogle-class {\n",
       "font-weight: bold;\n",
       "}\n",
       ".get-type {\n",
       "color: green;\n",
       "font-weight: bold;\n",
       "font-family: monospace;\n",
       "display: block;\n",
       "white-space: pre-wrap;\n",
       "}\n",
       ".show-type {\n",
       "color: green;\n",
       "font-weight: bold;\n",
       "font-family: monospace;\n",
       "margin-left: 1em;\n",
       "}\n",
       ".mono {\n",
       "font-family: monospace;\n",
       "display: block;\n",
       "}\n",
       ".err-msg {\n",
       "color: red;\n",
       "font-style: italic;\n",
       "font-family: monospace;\n",
       "white-space: pre;\n",
       "display: block;\n",
       "}\n",
       "#unshowable {\n",
       "color: red;\n",
       "font-weight: bold;\n",
       "}\n",
       ".err-msg.in.collapse {\n",
       "padding-top: 0.7em;\n",
       "}\n",
       ".highlight-code {\n",
       "white-space: pre;\n",
       "font-family: monospace;\n",
       "}\n",
       ".suggestion-warning { \n",
       "font-weight: bold;\n",
       "color: rgb(200, 130, 0);\n",
       "}\n",
       ".suggestion-error { \n",
       "font-weight: bold;\n",
       "color: red;\n",
       "}\n",
       ".suggestion-name {\n",
       "font-weight: bold;\n",
       "}\n",
       "</style><span class='err-msg'>&lt;interactive&gt;:2:32: error:<br/>    • Couldn't match expected type ‘Double’ with actual type ‘Int’<br/>    • In the second argument of ‘(/)’, namely ‘length xs’<br/>      In the expression: sum xs / length xs<br/>      In the expression:<br/>        let<br/>          xs :: [Double]<br/>          xs = [...]<br/>        in sum xs / length xs</span>"
      ],
      "text/plain": [
       "<interactive>:2:32: error:\n",
       "    • Couldn't match expected type ‘Double’ with actual type ‘Int’\n",
       "    • In the second argument of ‘(/)’, namely ‘length xs’\n",
       "      In the expression: sum xs / length xs\n",
       "      In the expression:\n",
       "        let\n",
       "          xs :: [Double]\n",
       "          xs = [...]\n",
       "        in sum xs / length xs"
      ]
     },
     "metadata": {},
     "output_type": "display_data"
    }
   ],
   "source": [
    "let xs :: [Double] \n",
    "    xs = [1, 2, 3] in sum xs / length xs"
   ]
  },
  {
   "cell_type": "markdown",
   "metadata": {},
   "source": [
    "`xs` is of type `Int` and `sum` only takes in `Int`"
   ]
  },
  {
   "cell_type": "code",
   "execution_count": 20,
   "metadata": {},
   "outputs": [
    {
     "data": {
      "text/plain": [
       "2.0"
      ]
     },
     "metadata": {},
     "output_type": "display_data"
    }
   ],
   "source": [
    "let xs :: [Double] \n",
    "    xs = [1, 2, 3] in sum xs / fromIntegral (length xs)"
   ]
  },
  {
   "cell_type": "markdown",
   "metadata": {},
   "source": [
    "## Machine Epsilon\n",
    "The following [code](https://gist.github.com/AndrewBarfield/2557034) is forced to write two copies of the same code for two number number types because C# is a stupid language.  \n",
    "\n",
    "```\n",
    "static void CalculateMachineEpsilonForFloat()\n",
    "\t\t{\n",
    "\n",
    "\t\t\tConsole.WriteLine( \"Float:\" );\n",
    "\n",
    "\t\t\tfloat machineEpsilon = 1.0f;\n",
    "\t\t\tfloat x = 0.0f;\n",
    "\t\t\tint loopCount = 0;\n",
    "\n",
    "\t\t\tdo\n",
    "\t\t\t{\n",
    "\t\t\t\tmachineEpsilon /= 2.0f;\n",
    "\t\t\t\tx = 1.0f + machineEpsilon;\n",
    "\t\t\t\tloopCount++;\n",
    "\t\t\t\tConsole.WriteLine( \"\\t\" + loopCount.ToString( \"00\" ) + \") \" + machineEpsilon.ToString() );\n",
    "\t\t\t}\n",
    "\t\t\twhile ( x > 1.0 );\n",
    "\n",
    "\t\t\tConsole.WriteLine( \"\\n\\tMantissa Bit Count: \" + loopCount );\n",
    "\t\t\tConsole.WriteLine( \"\\tMachine epsilon for float: \" + 2 * machineEpsilon );\n",
    "\n",
    "\t\t}\n",
    "\n",
    "\t\n",
    "\t\tstatic void CalculateMachineEpsilonForDouble()\n",
    "\t\t{\n",
    "\n",
    "\t\t\tConsole.WriteLine( \"Double:\" );\n",
    "\t\t\t\n",
    "\t\t\tdouble machineEpsilon = 1.0;\n",
    "\t\t\tdouble x = 0.0;\n",
    "\t\t\tint loopCount = 0;\n",
    "\n",
    "\t\t\tdo\n",
    "\t\t\t{\n",
    "\t\t\t\tmachineEpsilon /= 2.0;\n",
    "\t\t\t\tx = 1.0 + machineEpsilon;\n",
    "\t\t\t\tloopCount++;\n",
    "\t\t\t\tConsole.WriteLine( \"\\t\" + loopCount.ToString( \"00\" ) + \") \" + machineEpsilon.ToString() );\n",
    "\n",
    "\t\t\t}\n",
    "\t\t\twhile ( x > 1.0 );\n",
    "\n",
    "\t\t\tConsole.WriteLine( \"\\n\\tMantissa Bit Count: \" + loopCount );\n",
    "\t\t\tConsole.WriteLine( \"\\tMachine epsilon for double: \" + 2 * machineEpsilon );\n",
    "\n",
    "\t\t}\n",
    "```"
   ]
  },
  {
   "cell_type": "code",
   "execution_count": 21,
   "metadata": {},
   "outputs": [],
   "source": [
    "epsilon :: (Ord a, Fractional a) => a\n",
    "epsilon = last notTooSmall\n",
    "  where\n",
    "    halves = iterate (/ 2) 1\n",
    "    notTooSmall = takeWhile (\\e -> 1 + e > 1) halves\n",
    "\n",
    "epsilonDouble :: Double\n",
    "epsilonDouble = epsilon\n",
    "\n",
    "epsilonFloat :: Float\n",
    "epsilonFloat = epsilon"
   ]
  },
  {
   "cell_type": "markdown",
   "metadata": {},
   "source": [
    "Notice that you do not need to write the code twice like in C#"
   ]
  }
 ],
 "metadata": {
  "kernelspec": {
   "display_name": "Haskell",
   "language": "haskell",
   "name": "haskell"
  },
  "language_info": {
   "codemirror_mode": "ihaskell",
   "file_extension": ".hs",
   "name": "haskell",
   "pygments_lexer": "Haskell",
   "version": "8.6.3"
  },
  "toc": {
   "base_numbering": 1,
   "nav_menu": {},
   "number_sections": true,
   "sideBar": true,
   "skip_h1_title": false,
   "title_cell": "Table of Contents",
   "title_sidebar": "Contents",
   "toc_cell": false,
   "toc_position": {},
   "toc_section_display": true,
   "toc_window_display": false
  }
 },
 "nbformat": 4,
 "nbformat_minor": 2
}
