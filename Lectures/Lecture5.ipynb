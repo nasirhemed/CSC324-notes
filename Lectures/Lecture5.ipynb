{
 "cells": [
  {
   "cell_type": "markdown",
   "metadata": {},
   "source": [
    "# CSC324 Lecture5"
   ]
  },
  {
   "cell_type": "code",
   "execution_count": 1,
   "metadata": {},
   "outputs": [],
   "source": [
    "import Data.Maybe"
   ]
  },
  {
   "cell_type": "markdown",
   "metadata": {},
   "source": [
    "## Functors"
   ]
  },
  {
   "cell_type": "markdown",
   "metadata": {},
   "source": [
    "### Motivation\n",
    "Recall the mapping function `map` described in the previous lecture"
   ]
  },
  {
   "cell_type": "code",
   "execution_count": 2,
   "metadata": {},
   "outputs": [],
   "source": [
    "fmap_List :: (a -> b) -> [] a -> [] b\n",
    "-- Take a list of a and convert it to a list of b\n",
    "fmap_List f [] = []\n",
    "fmap_List f (x:xs) = f x : fmap_List f xs"
   ]
  },
  {
   "cell_type": "markdown",
   "metadata": {},
   "source": [
    "Look at the signature. Notice `[] a -> [] b`.  \n",
    "It's just `[a] -> [b]`.  \n",
    "We already saw myMap and map functions"
   ]
  },
  {
   "cell_type": "markdown",
   "metadata": {},
   "source": [
    "LetConsider the data structure `Maybe` defined from the standard library. We already saw it on the assignment.\n",
    "```\n",
    "data Maybe a = Nothing | Just a deriving Show\n",
    "```\n",
    "You can think of it as either there is an answer or there no answer.  \n",
    "Suppose we want to define `fmap` for this data structure."
   ]
  },
  {
   "cell_type": "code",
   "execution_count": 3,
   "metadata": {},
   "outputs": [],
   "source": [
    "fmap_Maybe :: (a -> b) -> Maybe a -> Maybe b\n",
    "fmap_Maybe f Nothing = Nothing -- There is no answer in this circumstance\n",
    "fmap_Maybe f (Just a) = Just (f a) -- There is an answer and you map it to an answer"
   ]
  },
  {
   "cell_type": "markdown",
   "metadata": {},
   "source": [
    "So in this case, we don't use recursion and we define it for all the cases of the definition."
   ]
  },
  {
   "cell_type": "markdown",
   "metadata": {},
   "source": [
    "Similarly, we can do the same for the data structure `Either`.  \n",
    "The motivation behind `Either` is that maybe when we have no answer, we don't want to return *nothing*. Thus, we may want to use `Either` for the case where we want to return something else when there is no answer"
   ]
  },
  {
   "cell_type": "code",
   "execution_count": 4,
   "metadata": {},
   "outputs": [],
   "source": [
    "data Either e a = Left e | Right a"
   ]
  },
  {
   "cell_type": "markdown",
   "metadata": {},
   "source": [
    "Again, let's define an `fmap` function similar to how we defined for the above"
   ]
  },
  {
   "cell_type": "code",
   "execution_count": 5,
   "metadata": {},
   "outputs": [],
   "source": [
    "fmap_Either :: (a -> b) -> (Either e) a -> (Either e) b\n",
    "fmap_Either f (Left e) = Left e -- This is like nothing.\n",
    "-- We just return Left e, which is essentially nothing\n",
    "fmap_Either f (Right a) = Right (f a)"
   ]
  },
  {
   "cell_type": "markdown",
   "metadata": {},
   "source": [
    "We can do the same for other data structures. But the issue is that we have to assign different names for `fmap`.  \n",
    "Like above, we defined `fmap_List`, `fmap_Maybe` and `fmap_Either` and they basically just do `fmap`.  \n",
    "If only we could make these data structures inherit some class so that they can use the same function name. Like using `fmap` for `Either` and `Maybe` rather than introducing new function names.  \n",
    "This is where `Functors` play a role."
   ]
  },
  {
   "cell_type": "markdown",
   "metadata": {},
   "source": [
    "### What are Functors ?\n",
    "Functor in Haskell is a kind of functional representation of different Types which can be mapped over. It is a high level concept of implementing polymorphism.\n",
    "The common theme is `(a -> b) -> (F a -> F b)` where `F` is a parametrized type.  \n",
    "The idea is that a data structure `F` that is an instance of `Functor` has a function fmap which takes in 2 arguments a function `f` that maps `a` to `b` and returns a data structure that supports mapping. That is, it will return a function that maps `F a` to `F b`.  \n",
    "\n",
    "![](https://bartoszmilewski.files.wordpress.com/2015/01/functor.jpg)"
   ]
  },
  {
   "cell_type": "markdown",
   "metadata": {},
   "source": [
    "### How to use them"
   ]
  },
  {
   "cell_type": "code",
   "execution_count": 6,
   "metadata": {},
   "outputs": [],
   "source": [
    "class Functor f where -- Notice we don't put (f a) so that \n",
    "                      -- it is generic (kinda)\n",
    "       fmap :: (a -> b) -> (f a -> f b)\n",
    "        -- You can define other functions here."
   ]
  },
  {
   "cell_type": "markdown",
   "metadata": {},
   "source": [
    "Then for any data structure, we have to make sure that it is an **instance** of `Functor` so that we can use `fmap` \n",
    "```\n",
    "   instance Functor [] where\n",
    "       fmap = map\n",
    "\n",
    "   instance Functor Maybe where -- Maybe nature rather than\n",
    "                                -- what kind of elements you have\n",
    "       fmap = ... like fmap_Maybe above\n",
    "\n",
    "   instance Functor (Either e) where\n",
    "       fmap = ... like fmap_Either above\n",
    "```"
   ]
  },
  {
   "cell_type": "markdown",
   "metadata": {},
   "source": [
    "Something important to note is that this is not like generics. For example in Java, if we have generics then we can say `Class<A>`. Here, the idea is that we're **generalizing** for all classes.  \n",
    "However, here, `Functors` tries to generalize all `A` so that `Class` works.  \n",
    "**Prof said the above but I'm not sure what it means lol**  \n",
    "All you need to know is that `Functors` are not like `Generics`"
   ]
  },
  {
   "cell_type": "markdown",
   "metadata": {},
   "source": [
    "####  Example: Functors on Binary Tree"
   ]
  },
  {
   "cell_type": "code",
   "execution_count": 7,
   "metadata": {},
   "outputs": [],
   "source": [
    "data BinTree a = BTNil | BTNode a (BinTree a) (BinTree a) deriving Show"
   ]
  },
  {
   "cell_type": "code",
   "execution_count": 8,
   "metadata": {},
   "outputs": [],
   "source": [
    "instance Functor BinTree where\n",
    "    -- fmap :: (a -> b) -> BinTree a -> BinTree b\n",
    "    fmap f BTNil = BTNil\n",
    "    fmap f (BTNode a lt rt) = BTNode (f a) (fmap f lt) (fmap f rt)"
   ]
  },
  {
   "cell_type": "markdown",
   "metadata": {},
   "source": [
    "Thus, now `fmap` will work for `BinTree` of any type.  "
   ]
  },
  {
   "cell_type": "code",
   "execution_count": 9,
   "metadata": {},
   "outputs": [
    {
     "data": {
      "text/plain": [
       "BTNode 5 (BTNode 2 (BTNode 1 BTNil BTNil) (BTNode 3 BTNil BTNil)) (BTNode 7 (BTNode 6 BTNil BTNil) (BTNode 8 BTNil BTNil))"
      ]
     },
     "metadata": {},
     "output_type": "display_data"
    }
   ],
   "source": [
    "binTree = BTNode 5 (BTNode 2 (BTNode 1 BTNil BTNil) (BTNode 3 BTNil BTNil)) (BTNode 7 (BTNode 6 BTNil BTNil) (BTNode 8 BTNil BTNil))\n",
    "binTree"
   ]
  },
  {
   "cell_type": "code",
   "execution_count": 10,
   "metadata": {},
   "outputs": [
    {
     "data": {
      "text/plain": [
       "BTNode 15 (BTNode 12 (BTNode 11 BTNil BTNil) (BTNode 13 BTNil BTNil)) (BTNode 17 (BTNode 16 BTNil BTNil) (BTNode 18 BTNil BTNil))"
      ]
     },
     "metadata": {},
     "output_type": "display_data"
    }
   ],
   "source": [
    "fmap (+ 10) binTree"
   ]
  },
  {
   "cell_type": "markdown",
   "metadata": {},
   "source": [
    "Notice that this is not like `Collection<Integer>` in Java.  \n",
    "If it were then `<A, B> fmap` is a function that takes in `A, B` and `Collection<A>` and returns `Collection<B>`.  \n",
    "The main issue is that `Collection<B>` does imply that `Collection<A>` is of similar instance/class  \n",
    "Whereas in Haskell `(f a -> f b)`, it is guaranteed that `f a` is of the same type `f b`"
   ]
  },
  {
   "cell_type": "markdown",
   "metadata": {},
   "source": [
    "Another advantage of `Functor` is that if we have a commond function among different data structures, then we can just define one function for all classes that extend `Functor`  \n",
    "```\n",
    "class Functor f where \n",
    "       fmap :: (a -> b) -> (f a -> f b)\n",
    "        commonFunction2 = ... \n",
    "        commonFunction3 = ...\n",
    "```"
   ]
  },
  {
   "cell_type": "markdown",
   "metadata": {},
   "source": [
    "`Functors` might not be very practical at the moment apart from just having a common function name for different data types. But in category theory it is quite useful.  \n",
    "The main motivation behind this is that we can define one function for all classes that extend `Functor` rather than having different names for the same functions.\n",
    "\n",
    "It will also be useful when we talk about `Monads`"
   ]
  },
  {
   "cell_type": "markdown",
   "metadata": {},
   "source": [
    "### Applicative Functors\n",
    "The standard `map` can apply a unary function *(Function that takes in one argument)* elementwise to one list (or a maybe, or...).  \n",
    "\n",
    "But, What if you want to apply a binary function to all pairs of elements of two lists (or two maybes, or...)?"
   ]
  },
  {
   "cell_type": "code",
   "execution_count": 11,
   "metadata": {},
   "outputs": [],
   "source": [
    "map2_List :: (a -> b -> c) -> [a] -> [b] -> [c]\n",
    "map2_List f [] _ = []\n",
    "map2_List f (a:as) bs = map (f a) bs ++ map2_List f as bs"
   ]
  },
  {
   "cell_type": "code",
   "execution_count": 12,
   "metadata": {},
   "outputs": [
    {
     "data": {
      "text/plain": [
       "[9,8,7,19,18,17,29,28,27]"
      ]
     },
     "metadata": {},
     "output_type": "display_data"
    }
   ],
   "source": [
    "map2_List (-) [10, 20, 30] [1, 2, 3]\n",
    "-- = [9, 8, 7] ++ [19, 18, 17] ++ [29, 28, 27]"
   ]
  },
  {
   "cell_type": "markdown",
   "metadata": {},
   "source": [
    "Here's how the function works"
   ]
  },
  {
   "cell_type": "code",
   "execution_count": 13,
   "metadata": {},
   "outputs": [
    {
     "data": {
      "text/plain": [
       "\"First List\""
      ]
     },
     "metadata": {},
     "output_type": "display_data"
    },
    {
     "data": {
      "text/plain": [
       "[9,8,7]"
      ]
     },
     "metadata": {},
     "output_type": "display_data"
    },
    {
     "data": {
      "text/plain": [
       "\"Second list\""
      ]
     },
     "metadata": {},
     "output_type": "display_data"
    },
    {
     "data": {
      "text/plain": [
       "[19,18,17]"
      ]
     },
     "metadata": {},
     "output_type": "display_data"
    },
    {
     "data": {
      "text/plain": [
       "\"Third List\""
      ]
     },
     "metadata": {},
     "output_type": "display_data"
    },
    {
     "data": {
      "text/plain": [
       "[29,28,27]"
      ]
     },
     "metadata": {},
     "output_type": "display_data"
    },
    {
     "data": {
      "text/plain": [
       "\"Append them all\""
      ]
     },
     "metadata": {},
     "output_type": "display_data"
    },
    {
     "data": {
      "text/plain": [
       "[9,8,7,19,18,17,29,28,27]"
      ]
     },
     "metadata": {},
     "output_type": "display_data"
    }
   ],
   "source": [
    "-- How the function works for the above example\n",
    "\"First List\"\n",
    "map (10 -) [1, 2, 3]\n",
    "\"Second list\"\n",
    "map (20 -) [1, 2, 3]\n",
    "\"Third List\"\n",
    "map (30 -) [1, 2, 3]\n",
    "\"Append them all\"\n",
    "map (10 -) [1, 2, 3] ++ map (20 -) [1, 2, 3] ++ map (30 -) [1, 2, 3]"
   ]
  },
  {
   "cell_type": "markdown",
   "metadata": {},
   "source": [
    "Similarly, we can do for `Maybe`"
   ]
  },
  {
   "cell_type": "code",
   "execution_count": 14,
   "metadata": {},
   "outputs": [],
   "source": [
    "map2_Maybe :: (a -> b -> c) -> Maybe a -> Maybe b -> Maybe c\n",
    "map2_Maybe f Nothing _ = Nothing\n",
    "map2_Maybe f (Just a) Nothing = Nothing\n",
    "map2_Maybe f (Just a) (Just b) = Just ((f a) b)"
   ]
  },
  {
   "cell_type": "code",
   "execution_count": 15,
   "metadata": {},
   "outputs": [
    {
     "data": {
      "text/plain": [
       "Nothing"
      ]
     },
     "metadata": {},
     "output_type": "display_data"
    },
    {
     "data": {
      "text/plain": [
       "Nothing"
      ]
     },
     "metadata": {},
     "output_type": "display_data"
    },
    {
     "data": {
      "text/plain": [
       "Nothing"
      ]
     },
     "metadata": {},
     "output_type": "display_data"
    },
    {
     "data": {
      "text/plain": [
       "Just 1"
      ]
     },
     "metadata": {},
     "output_type": "display_data"
    }
   ],
   "source": [
    "map2_Maybe (-) Nothing Nothing\n",
    "map2_Maybe (-) Nothing (Just 5)\n",
    "map2_Maybe (-) (Just 4) Nothing\n",
    "map2_Maybe (-) (Just 4) (Just 3)"
   ]
  },
  {
   "cell_type": "markdown",
   "metadata": {},
   "source": [
    "### Having multiple functions for mapping"
   ]
  },
  {
   "cell_type": "markdown",
   "metadata": {},
   "source": [
    "Now what if we want the above, but this time 3 functions are applied for the lists, or even 4 functions. \n",
    "Here's how we would approach it. One of the arguments will be a list of functions"
   ]
  },
  {
   "cell_type": "code",
   "execution_count": 16,
   "metadata": {},
   "outputs": [],
   "source": [
    "ap_List :: [a -> b] -> [a] -> [b]\n",
    "ap_List [] as = []\n",
    "ap_List (f:fs) as = map f as ++ ap_List fs as \n",
    "-- Note that (f:fs) is a list of functions"
   ]
  },
  {
   "cell_type": "markdown",
   "metadata": {},
   "source": [
    "One way to understand this is to work out the intermediate types:  \n",
    "```\n",
    "   ap_List    (fmap       f          as)         bs\n",
    "                      a->(b->c)      [a]\n",
    "              |<--    [b -> c]      -->|         [b]\n",
    "   |<---                   [c]                 --->|\n",
    "\n",
    "```"
   ]
  },
  {
   "cell_type": "code",
   "execution_count": 17,
   "metadata": {},
   "outputs": [
    {
     "data": {
      "text/plain": [
       "[9,8,7,19,18,17,29,28,27]"
      ]
     },
     "metadata": {},
     "output_type": "display_data"
    }
   ],
   "source": [
    "ap_List [(10 -), (20 -), (30 -)] [1, 2, 3]"
   ]
  },
  {
   "cell_type": "markdown",
   "metadata": {},
   "source": [
    "TODO: Complete the other two functions and introduce `pure`"
   ]
  }
 ],
 "metadata": {
  "kernelspec": {
   "display_name": "Haskell",
   "language": "haskell",
   "name": "haskell"
  },
  "language_info": {
   "codemirror_mode": "ihaskell",
   "file_extension": ".hs",
   "name": "haskell",
   "pygments_lexer": "Haskell",
   "version": "8.6.3"
  },
  "latex_envs": {
   "LaTeX_envs_menu_present": true,
   "autoclose": false,
   "autocomplete": true,
   "bibliofile": "biblio.bib",
   "cite_by": "apalike",
   "current_citInitial": 1,
   "eqLabelWithNumbers": true,
   "eqNumInitial": 1,
   "hotkeys": {
    "equation": "Ctrl-E",
    "itemize": "Ctrl-I"
   },
   "labels_anchors": false,
   "latex_user_defs": false,
   "report_style_numbering": false,
   "user_envs_cfg": false
  },
  "toc": {
   "base_numbering": 1,
   "nav_menu": {},
   "number_sections": true,
   "sideBar": true,
   "skip_h1_title": false,
   "title_cell": "Table of Contents",
   "title_sidebar": "Contents",
   "toc_cell": false,
   "toc_position": {
    "height": "calc(100% - 180px)",
    "left": "10px",
    "top": "150px",
    "width": "256px"
   },
   "toc_section_display": true,
   "toc_window_display": true
  },
  "widgets": {
   "application/vnd.jupyter.widget-state+json": {
    "state": {},
    "version_major": 2,
    "version_minor": 0
   }
  }
 },
 "nbformat": 4,
 "nbformat_minor": 2
}
